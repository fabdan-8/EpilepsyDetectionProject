{
 "cells": [
  {
   "cell_type": "code",
   "execution_count": 1,
   "outputs": [],
   "source": [
    "import torch\n",
    "import torchvision\n",
    "import torchvision.transforms as transforms\n",
    "import torch.nn as nn\n",
    "import torch.nn.functional as F\n",
    "import torch.optim as optim\n",
    "import mne\n",
    "import numpy as np\n",
    "import matplotlib.pyplot as plt\n",
    "from torch.utils.data import TensorDataset, DataLoader\n",
    "import copy"
   ],
   "metadata": {
    "collapsed": false,
    "pycharm": {
     "name": "#%%\n"
    }
   }
  },
  {
   "cell_type": "code",
   "execution_count": 2,
   "outputs": [],
   "source": [
    "#Takes string with file path as argument (eg. \"/files/file.edf.seizure)\n",
    "#Returns array on the format [1st seizure start time, 1st seizure start time in samples, 1st seizure end time, 1st seizure end time in samples, ...... , nth seizure start time, nth seizure start time in samples, nth seizure end time, nth seizure end time in samples]\n",
    "\n",
    "def openSeizure(file):\n",
    "    data = []\n",
    "    with open(file,\"rb\") as f:\n",
    "        buf = []\n",
    "        byte = f.read(1)\n",
    "        i = 0\n",
    "        while byte:\n",
    "            byte = f.read(1)\n",
    "            if len(buf)<4:\n",
    "                buf.append(byte)\n",
    "            else:\n",
    "                buf = buf[1:] #throw away oldest byte\n",
    "                buf.append(byte) #append new byte to end.\n",
    "            i = i+1\n",
    "            #print(byte)\n",
    "\n",
    "            if buf ==[b'\\x01', b'\\x00',b'\\x00',b'\\xec']: #0x010000ec appears to be a control sequence of some sort, signifying beginning of seizure data\n",
    "                while byte:\n",
    "                    byte = f.read(1) #next byte should be msb of seizure offset in seconds\n",
    "                    if byte == b'':\n",
    "                        continue #if byte is empty we've reached end of file\n",
    "                    data.append(byte)\n",
    "                    f.seek(2,1) #skip over next 2 bytes, they seem unimportant\n",
    "                    byte = f.read(1)#this byte should be lsb of seizure offset in seconds\n",
    "                    data.append(byte)\n",
    "                    f.seek(7,1)#skip over next 7 bytes, again they seem unimportant\n",
    "                    byte = f.read(1)#this should be the length of seizure in seconds\n",
    "                    data.append(byte)\n",
    "                    f.seek(4,1)#skip over next 4 bytes, if there are more seizures, looping should handle them.\n",
    "                continue # once we've finished reading the seizures, we're finished with the file\n",
    "\n",
    "        #print(data)\n",
    "    legible_data = []\n",
    "    i = 0\n",
    "    currentTimePointer = 0 #the time points seem to be in offsets from last event for some godforsaken reason so this is for keeping current time\n",
    "    while i<len(data):\n",
    "        startTimeSec = data[i] + data[i+1]\n",
    "        lengthSecInt = int.from_bytes(data[i+2], \"big\")\n",
    "        startTimeSecInt = int.from_bytes(startTimeSec, \"big\") #get ints from parsed bytes\n",
    "        currentTimePointer = currentTimePointer + startTimeSecInt #increment current time by start seizure event offset\n",
    "        legible_data.append(currentTimePointer) #add current time to array\n",
    "        legible_data.append(currentTimePointer*256) #convert seconds to samples\n",
    "        currentTimePointer = currentTimePointer + lengthSecInt #increment current time by end of the seizure event offset\n",
    "        legible_data.append(currentTimePointer) #add current time to array\n",
    "        legible_data.append(currentTimePointer*256) #convert seconds to samples\n",
    "        i = i+3 #weve got 3 datapoints per seizure so just move to the next one\n",
    "    print(file)#print the file path for clarity\n",
    "    print(legible_data)#print the datapoints for clarity\n",
    "    return legible_data\n",
    "#some test code, disregard\n",
    "#openSeizure(\"chb04_05.edf.seizures\")\n",
    "#openSeizure(\"chb04_08.edf.seizures\")\n",
    "#openSeizure(\"chb04_28.edf.seizures\")\n",
    "#openSeizure(\"chb17b_63.edf.seizures\")"
   ],
   "metadata": {
    "collapsed": false,
    "pycharm": {
     "name": "#%%\n"
    }
   }
  },
  {
   "cell_type": "code",
   "execution_count": 3,
   "outputs": [
    {
     "name": "stdout",
     "output_type": "stream",
     "text": [
      "Extracting EDF parameters from C:\\Users\\Fabian\\PycharmProjects\\EpilepsyProject\\data\\chb01\\chb01_03.edf...\n",
      "EDF file detected\n",
      "Setting channel info structure...\n",
      "Creating raw.info structure...\n"
     ]
    },
    {
     "name": "stderr",
     "output_type": "stream",
     "text": [
      "C:\\Users\\Fabian\\AppData\\Local\\Temp\\ipykernel_13920\\232189870.py:2: RuntimeWarning: Channel names are not unique, found duplicates for: {'T8-P8'}. Applying running numbers for duplicates.\n",
      "  data = mne.io.read_raw_edf(file)\n"
     ]
    }
   ],
   "source": [
    "file = \"data\\\\chb01\\\\chb01_03.edf\"\n",
    "data = mne.io.read_raw_edf(file)\n",
    "raw_data = data.get_data()\n",
    "# you can get the metadata included in the file and a list of all channels:\n",
    "info = data.info\n",
    "channels = data.ch_names"
   ],
   "metadata": {
    "collapsed": false,
    "pycharm": {
     "name": "#%%\n"
    }
   }
  },
  {
   "cell_type": "code",
   "execution_count": 4,
   "outputs": [
    {
     "name": "stdout",
     "output_type": "stream",
     "text": [
      "921600\n",
      "23.0\n"
     ]
    }
   ],
   "source": [
    "print(raw_data[0].size)\n",
    "print(raw_data.size/raw_data[0].size)\n"
   ],
   "metadata": {
    "collapsed": false,
    "pycharm": {
     "name": "#%%\n"
    }
   }
  },
  {
   "cell_type": "code",
   "execution_count": 5,
   "outputs": [
    {
     "name": "stdout",
     "output_type": "stream",
     "text": [
      "data/chb01/chb01_03.edf.seizures\n",
      "[2996, 766976, 3036, 777216]\n"
     ]
    },
    {
     "data": {
      "text/plain": "[2996, 766976, 3036, 777216]"
     },
     "execution_count": 5,
     "metadata": {},
     "output_type": "execute_result"
    }
   ],
   "source": [
    "openSeizure(\"data/chb01/chb01_03.edf.seizures\")"
   ],
   "metadata": {
    "collapsed": false,
    "pycharm": {
     "name": "#%%\n"
    }
   }
  },
  {
   "cell_type": "code",
   "execution_count": 6,
   "outputs": [
    {
     "name": "stdout",
     "output_type": "stream",
     "text": [
      "data/chb01/chb01_03.edf.seizures\n",
      "[2996, 766976, 3036, 777216]\n"
     ]
    },
    {
     "data": {
      "text/plain": "<Figure size 640x480 with 1 Axes>",
      "image/png": "[encoded data removed]"
     },
     "metadata": {},
     "output_type": "display_data"
    }
   ],
   "source": [
    "time = range(0,raw_data[0].size)\n",
    "plt.plot(time,raw_data[0])\n",
    "xcoords = openSeizure(\"data/chb01/chb01_03.edf.seizures\")\n",
    "for xc in xcoords:\n",
    "    plt.axvline(x=xc, color='r')"
   ],
   "metadata": {
    "collapsed": false,
    "pycharm": {
     "name": "#%%\n"
    }
   }
  },
  {
   "cell_type": "code",
   "execution_count": 7,
   "outputs": [],
   "source": [
    "def LabelData(seizurecoords, datasize, labelsize):\n",
    "    labels = np.zeros(int(labelsize))\n",
    "    scale = datasize/labelsize\n",
    "    if len(seizurecoords) >= 4:\n",
    "        for i in range(0,labels.size):\n",
    "            if (i*scale>=seizurecoords[0] and i*scale<=seizurecoords[1]) or (i*scale>=seizurecoords[2] and i*scale<=seizurecoords[3]):\n",
    "                labels[i]=1 #seizure = 1, otherwise = 0\n",
    "    return labels"
   ],
   "metadata": {
    "collapsed": false,
    "pycharm": {
     "name": "#%%\n"
    }
   }
  },
  {
   "cell_type": "code",
   "execution_count": 8,
   "outputs": [],
   "source": [
    "def MakeDataWindows(data, channels, xsize, out_data):\n",
    "    s = (int(channels), int(xsize))\n",
    "    scaledata = 1000\n",
    "    pic = np.zeros(s)\n",
    "    #print(pic[22][22])\n",
    "    print(f'Running for {int(data.size/xsize/channels)} iterations')\n",
    "    for i in range(int(data.size/xsize/channels)):\n",
    "        for j in range(int(channels)):\n",
    "            for k in range(int(xsize)):\n",
    "                pic[j][k] = float(data[j][int(i * xsize + k)]) * 1000\n",
    "        out_data.append(pic)\n",
    "        print(\n",
    "            f'\\rLoop {i}',\n",
    "            end=''\n",
    "        )\n",
    "    print(f'\\nLoop Complete\\n')"
   ],
   "metadata": {
    "collapsed": false,
    "pycharm": {
     "name": "#%%\n"
    }
   }
  },
  {
   "cell_type": "code",
   "execution_count": 9,
   "outputs": [
    {
     "name": "stdout",
     "output_type": "stream",
     "text": [
      "Running for 40069 iterations\n",
      "Loop 40068\n",
      "Loop Complete\n",
      "\n",
      "All Done!\n"
     ]
    }
   ],
   "source": [
    "out_data = []\n",
    "MakeDataWindows(raw_data, raw_data.size/raw_data[0].size, raw_data.size/raw_data[0].size, out_data)\n",
    "print(f'All Done!')"
   ],
   "metadata": {
    "collapsed": false,
    "pycharm": {
     "name": "#%%\n"
    }
   }
  },
  {
   "cell_type": "code",
   "execution_count": 10,
   "outputs": [
    {
     "name": "stdout",
     "output_type": "stream",
     "text": [
      "data/chb01/chb01_04.edf.seizures\n",
      "[1467, 375552, 1494, 382464]\n"
     ]
    }
   ],
   "source": [
    "seizurecoords = openSeizure(\"data/chb01/chb01_04.edf.seizures\")\n",
    "labels = LabelData(seizurecoords,raw_data[0].size,raw_data[0].size/(raw_data.size/raw_data[0].size))\n",
    "#print(\n",
    "#    f'\\rEpoch {epoch+1} [{batch_nr+1}/{len(train_loader)}] - Loss: {loss}',\n",
    "#    end=''\n",
    "#)"
   ],
   "metadata": {
    "collapsed": false,
    "pycharm": {
     "name": "#%%\n"
    }
   }
  },
  {
   "cell_type": "code",
   "execution_count": 11,
   "outputs": [
    {
     "name": "stdout",
     "output_type": "stream",
     "text": [
      "1.0\n",
      "0.0\n"
     ]
    }
   ],
   "source": [
    "print(labels[int(seizurecoords[3]/23)])\n",
    "print(labels[int(seizurecoords[3]/23)+1])"
   ],
   "metadata": {
    "collapsed": false,
    "pycharm": {
     "name": "#%%\n"
    }
   }
  },
  {
   "cell_type": "code",
   "execution_count": 12,
   "outputs": [],
   "source": [
    "batch_size = 1\n",
    "tensor_data = torch.Tensor(np.array(out_data))\n",
    "tensor_labels = torch.Tensor(np.array(labels))\n",
    "dataset = TensorDataset(tensor_data,tensor_labels)\n",
    "dataset_size = len(dataset)\n",
    "train_size = int(0.6 * dataset_size)\n",
    "val_size = int(0.2 * dataset_size)\n",
    "test_size = int(dataset_size - train_size - val_size)\n",
    "train_set, val_set, test_set = torch.utils.data.random_split(dataset, [train_size, val_size, test_size])\n",
    "train_loader = DataLoader(train_set, batch_size=batch_size, shuffle=True)\n",
    "val_loader = DataLoader(val_set, batch_size=batch_size, shuffle=True)\n",
    "test_loader = DataLoader(test_set, batch_size=batch_size, shuffle=True)"
   ],
   "metadata": {
    "collapsed": false,
    "pycharm": {
     "name": "#%%\n"
    }
   }
  },
  {
   "cell_type": "code",
   "execution_count": 26,
   "outputs": [],
   "source": [
    "class Net(nn.Module):\n",
    "    def __init__(self):\n",
    "        super(Net, self).__init__()\n",
    "        self.conv1 = nn.Conv2d(1, 3, 4)\n",
    "        self.pool = nn.MaxPool2d(2, 2)\n",
    "        #self.conv2 = nn.Conv2d(3, 5, 3)\n",
    "        #self.fc1 = nn.Linear(5 * 8 * 8, 64)\n",
    "        #self.fc2 = nn.Linear(64, 2)\n",
    "\n",
    "        self.fc = nn.Linear(300, 2)\n",
    "\n",
    "    def forward(self, x):\n",
    "        x = self.conv1(x)\n",
    "        x = self.pool(x)\n",
    "        #x = self.conv2(x)\n",
    "        #x = self.pool(x)\n",
    "        #x = torch.flatten(x)\n",
    "        #x = self.fc1(x)\n",
    "        #x = self.fc2(x)\n",
    "\n",
    "        x = torch.flatten(x)\n",
    "        x = self.fc(x)\n",
    "\n",
    "        return x"
   ],
   "metadata": {
    "collapsed": false,
    "pycharm": {
     "name": "#%%\n"
    }
   }
  },
  {
   "cell_type": "code",
   "execution_count": 27,
   "outputs": [],
   "source": [
    "def train_model(model, criterion, optimizer, train_loader, val_loader, num_epochs):\n",
    "    best_model = -1\n",
    "    best_loss = float('inf')\n",
    "    count = 0\n",
    "\n",
    "    for epoch in range(num_epochs):\n",
    "        for batch_nr, (data, labels) in enumerate(train_loader):\n",
    "\n",
    "            with torch.set_grad_enabled(True):\n",
    "\n",
    "                labels = torch.nn.functional.one_hot(labels.to(torch.int64), 2)\n",
    "\n",
    "                prediction = model.forward(data)\n",
    "\n",
    "                loss = criterion(prediction.float(), labels.float())\n",
    "\n",
    "                loss.backward()\n",
    "\n",
    "                optimizer.step()\n",
    "\n",
    "                optimizer.zero_grad()\n",
    "\n",
    "                print(\n",
    "                    f'\\rEpoch {epoch+1} [{batch_nr+1}/{len(train_loader)}] - Loss: {loss}',\n",
    "                    end=''\n",
    "                )\n",
    "\n",
    "\n",
    "        total_loss = 0\n",
    "        for batch_nr, (data, labels) in enumerate(val_loader):\n",
    "            #labels = torch.nn.functional.one_hot(labels.to(torch.int64), 2).float()\n",
    "\n",
    "            prediction = model.forward(data.float())\n",
    "\n",
    "            loss = criterion(prediction, labels)\n",
    "\n",
    "            total_loss += loss\n",
    "\n",
    "        if total_loss < best_loss:\n",
    "            best_loss = total_loss\n",
    "            best_model = copy.deepcopy(model)\n",
    "        #else:\n",
    "            #model = copy.deepcopy(best_model)\n",
    "\n",
    "\n",
    "    return best_model"
   ],
   "metadata": {
    "collapsed": false,
    "pycharm": {
     "name": "#%%\n"
    }
   }
  },
  {
   "cell_type": "code",
   "execution_count": 28,
   "outputs": [],
   "source": [
    "def test_model(model, test_loader):\n",
    "    correct = total = 0\n",
    "    count = 0\n",
    "\n",
    "    for batch_nr, (data, labels) in enumerate(test_loader):\n",
    "        prediction = model.forward(data.float())\n",
    "\n",
    "        if prediction.dim() == 1:\n",
    "            prediction = torch.argmax(prediction).float()\n",
    "            correct += bool(prediction==labels)\n",
    "            total += 1\n",
    "            #print(int(prediction), int(labels))\n",
    "\n",
    "        else:\n",
    "            prediction = torch.argmax(prediction, dim=1).float()\n",
    "            correct += int(((prediction - labels) == 0).sum())\n",
    "            total += len(prediction)\n",
    "            #print(int(prediction), int(labels))\n",
    "\n",
    "    return 100 * correct / total"
   ],
   "metadata": {
    "collapsed": false,
    "pycharm": {
     "name": "#%%\n"
    }
   }
  },
  {
   "cell_type": "code",
   "execution_count": 29,
   "outputs": [
    {
     "name": "stdout",
     "output_type": "stream",
     "text": [
      "Epoch 1 [24041/24041] - Loss: 0.31941676139831543"
     ]
    }
   ],
   "source": [
    "# Load our network\n",
    "model = Net()\n",
    "\n",
    "# Define our loss function\n",
    "criterion = nn.MSELoss()\n",
    "\n",
    "# Define our optimizer\n",
    "optimizer = torch.optim.Adam(model.parameters(), lr=0.001)\n",
    "\n",
    "trained_model = train_model(model, criterion, optimizer, train_loader, val_loader, 1)"
   ],
   "metadata": {
    "collapsed": false,
    "pycharm": {
     "name": "#%%\n"
    }
   }
  },
  {
   "cell_type": "code",
   "execution_count": 30,
   "outputs": [
    {
     "name": "stdout",
     "output_type": "stream",
     "text": [
      "model has 58.30318153462258% accuracy\n"
     ]
    }
   ],
   "source": [
    "tested_model = test_model(trained_model, test_loader)\n",
    "print(\"model has \" + str(tested_model) + \"% accuracy\")"
   ],
   "metadata": {
    "collapsed": false,
    "pycharm": {
     "name": "#%%\n"
    }
   }
  },
  {
   "cell_type": "code",
   "execution_count": 17,
   "outputs": [],
   "source": [],
   "metadata": {
    "collapsed": false,
    "pycharm": {
     "name": "#%%\n"
    }
   }
  }
 ],
 "metadata": {
  "kernelspec": {
   "display_name": "Python 3",
   "language": "python",
   "name": "python3"
  },
  "language_info": {
   "codemirror_mode": {
    "name": "ipython",
    "version": 2
   },
   "file_extension": ".py",
   "mimetype": "text/x-python",
   "name": "python",
   "nbconvert_exporter": "python",
   "pygments_lexer": "ipython2",
   "version": "2.7.6"
  }
 },
 "nbformat": 4,
 "nbformat_minor": 0
}