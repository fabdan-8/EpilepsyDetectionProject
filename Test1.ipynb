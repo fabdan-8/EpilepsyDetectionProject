{
 "cells": [
  {
   "cell_type": "code",
   "execution_count": 1,
   "outputs": [],
   "source": [
    "import torch\n",
    "import torchvision\n",
    "import torchvision.transforms as transforms\n",
    "import torch.nn as nn\n",
    "import torch.nn.functional as F\n",
    "import torch.optim as optim\n",
    "import mne\n",
    "import numpy as np\n",
    "import matplotlib.pyplot as plt\n",
    "from torch.utils.data import TensorDataset, DataLoader\n",
    "import copy"
   ],
   "metadata": {
    "collapsed": false,
    "pycharm": {
     "name": "#%%\n"
    }
   }
  },
  {
   "cell_type": "code",
   "execution_count": 2,
   "outputs": [],
   "source": [
    "#Takes string with file path as argument (eg. \"/files/file.edf.seizure)\n",
    "#Returns array on the format [1st seizure start time, 1st seizure start time in samples, 1st seizure end time, 1st seizure end time in samples, ...... , nth seizure start time, nth seizure start time in samples, nth seizure end time, nth seizure end time in samples]\n",
    "\n",
    "def openSeizure(file):\n",
    "    data = []\n",
    "    with open(file,\"rb\") as f:\n",
    "        buf = []\n",
    "        byte = f.read(1)\n",
    "        i = 0\n",
    "        while byte:\n",
    "            byte = f.read(1)\n",
    "            if len(buf)<4:\n",
    "                buf.append(byte)\n",
    "            else:\n",
    "                buf = buf[1:] #throw away oldest byte\n",
    "                buf.append(byte) #append new byte to end.\n",
    "            i = i+1\n",
    "            #print(byte)\n",
    "\n",
    "            if buf ==[b'\\x01', b'\\x00',b'\\x00',b'\\xec']: #0x010000ec appears to be a control sequence of some sort, signifying beginning of seizure data\n",
    "                while byte:\n",
    "                    byte = f.read(1) #next byte should be msb of seizure offset in seconds\n",
    "                    if byte == b'':\n",
    "                        continue #if byte is empty we've reached end of file\n",
    "                    data.append(byte)\n",
    "                    f.seek(2,1) #skip over next 2 bytes, they seem unimportant\n",
    "                    byte = f.read(1)#this byte should be lsb of seizure offset in seconds\n",
    "                    data.append(byte)\n",
    "                    f.seek(7,1)#skip over next 7 bytes, again they seem unimportant\n",
    "                    byte = f.read(1)#this should be the length of seizure in seconds\n",
    "                    data.append(byte)\n",
    "                    f.seek(4,1)#skip over next 4 bytes, if there are more seizures, looping should handle them.\n",
    "                continue # once we've finished reading the seizures, we're finished with the file\n",
    "\n",
    "        #print(data)\n",
    "    legible_data = []\n",
    "    i = 0\n",
    "    currentTimePointer = 0 #the time points seem to be in offsets from last event for some godforsaken reason so this is for keeping current time\n",
    "    while i<len(data):\n",
    "        startTimeSec = data[i] + data[i+1]\n",
    "        lengthSecInt = int.from_bytes(data[i+2], \"big\")\n",
    "        startTimeSecInt = int.from_bytes(startTimeSec, \"big\") #get ints from parsed bytes\n",
    "        currentTimePointer = currentTimePointer + startTimeSecInt #increment current time by start seizure event offset\n",
    "        legible_data.append(currentTimePointer) #add current time to array\n",
    "        legible_data.append(currentTimePointer*256) #convert seconds to samples\n",
    "        currentTimePointer = currentTimePointer + lengthSecInt #increment current time by end of the seizure event offset\n",
    "        legible_data.append(currentTimePointer) #add current time to array\n",
    "        legible_data.append(currentTimePointer*256) #convert seconds to samples\n",
    "        i = i+3 #weve got 3 datapoints per seizure so just move to the next one\n",
    "    print(file)#print the file path for clarity\n",
    "    print(legible_data)#print the datapoints for clarity\n",
    "    return legible_data\n",
    "#some test code, disregard\n",
    "#openSeizure(\"chb04_05.edf.seizures\")\n",
    "#openSeizure(\"chb04_08.edf.seizures\")\n",
    "#openSeizure(\"chb04_28.edf.seizures\")\n",
    "#openSeizure(\"chb17b_63.edf.seizures\")"
   ],
   "metadata": {
    "collapsed": false,
    "pycharm": {
     "name": "#%%\n"
    }
   }
  },
  {
   "cell_type": "code",
   "execution_count": 3,
   "outputs": [
    {
     "name": "stdout",
     "output_type": "stream",
     "text": [
      "Extracting EDF parameters from C:\\Users\\Fabian\\PycharmProjects\\EpilepsyProject\\data\\chb01\\chb01_03.edf...\n",
      "EDF file detected\n",
      "Setting channel info structure...\n",
      "Creating raw.info structure...\n"
     ]
    },
    {
     "name": "stderr",
     "output_type": "stream",
     "text": [
      "C:\\Users\\Fabian\\AppData\\Local\\Temp\\ipykernel_10860\\232189870.py:2: RuntimeWarning: Channel names are not unique, found duplicates for: {'T8-P8'}. Applying running numbers for duplicates.\n",
      "  data = mne.io.read_raw_edf(file)\n"
     ]
    }
   ],
   "source": [
    "file = \"data\\\\chb01\\\\chb01_03.edf\"\n",
    "data = mne.io.read_raw_edf(file)\n",
    "raw_data = data.get_data()\n",
    "# you can get the metadata included in the file and a list of all channels:\n",
    "info = data.info\n",
    "channels = data.ch_names"
   ],
   "metadata": {
    "collapsed": false,
    "pycharm": {
     "name": "#%%\n"
    }
   }
  },
  {
   "cell_type": "code",
   "execution_count": 4,
   "outputs": [
    {
     "name": "stdout",
     "output_type": "stream",
     "text": [
      "921600\n",
      "23.0\n",
      "-1.7777777777777777e-05\n",
      "1.9536019536019466e-07\n",
      "1.9536019536019466e-07\n",
      "5.860805860805853e-07\n",
      "1.9536019536019466e-07\n",
      "-1.3675213675213682e-06\n",
      "-2.14896214896215e-06\n",
      "5.860805860805853e-07\n",
      "2.9304029304029295e-06\n",
      "-5.860805860805868e-07\n",
      "-6.837606837606838e-06\n",
      "-1.6214896214896215e-05\n",
      "-2.3247863247863247e-05\n",
      "-2.2857142857142858e-05\n",
      "-1.973137973137973e-05\n",
      "-1.855921855921856e-05\n",
      "-2.0512820512820515e-05\n",
      "-2.2075702075702074e-05\n",
      "-1.973137973137973e-05\n",
      "-1.8168498168498165e-05\n"
     ]
    }
   ],
   "source": [
    "print(raw_data[0].size)\n",
    "print(raw_data.size/raw_data[0].size)\n",
    "for i in range(0,20):\n",
    "    print(raw_data[0][i])"
   ],
   "metadata": {
    "collapsed": false,
    "pycharm": {
     "name": "#%%\n"
    }
   }
  },
  {
   "cell_type": "code",
   "execution_count": 5,
   "outputs": [
    {
     "name": "stdout",
     "output_type": "stream",
     "text": [
      "data/chb01/chb01_04.edf.seizures\n",
      "[1467, 375552, 1494, 382464]\n"
     ]
    },
    {
     "data": {
      "text/plain": "[1467, 375552, 1494, 382464]"
     },
     "execution_count": 5,
     "metadata": {},
     "output_type": "execute_result"
    }
   ],
   "source": [
    "openSeizure(\"data/chb01/chb01_04.edf.seizures\")"
   ],
   "metadata": {
    "collapsed": false,
    "pycharm": {
     "name": "#%%\n"
    }
   }
  },
  {
   "cell_type": "code",
   "execution_count": 10,
   "outputs": [
    {
     "name": "stdout",
     "output_type": "stream",
     "text": [
      "data/chb01/chb01_03.edf.seizures\n",
      "[2996, 766976, 3036, 777216]\n"
     ]
    },
    {
     "data": {
      "text/plain": "<Figure size 640x480 with 1 Axes>",
      "image/png": "[encoded data removed]"
     },
     "metadata": {},
     "output_type": "display_data"
    }
   ],
   "source": [
    "time = range(0,raw_data[0].size)\n",
    "plt.plot(time,raw_data[0])\n",
    "xcoords = openSeizure(\"data/chb01/chb01_03.edf.seizures\")\n",
    "coords_count = 0\n",
    "for xc in xcoords:\n",
    "    if coords_count % 2 == 1:\n",
    "        plt.axvline(x=xc, color='r')\n",
    "    coords_count = coords_count + 1"
   ],
   "metadata": {
    "collapsed": false,
    "pycharm": {
     "name": "#%%\n"
    }
   }
  },
  {
   "cell_type": "code",
   "execution_count": 7,
   "outputs": [],
   "source": [
    "def LabelData(seizurecoords, datasize, labelsize):\n",
    "    labels = np.zeros(int(labelsize))\n",
    "    scale = datasize/labelsize\n",
    "    if len(seizurecoords) >= 4:\n",
    "        for i in range(0,labels.size):\n",
    "            if (i*scale>=seizurecoords[0] and i*scale<=seizurecoords[1]) or (i*scale>=seizurecoords[2] and i*scale<=seizurecoords[3]):\n",
    "                labels[i]=1 #seizure = 1, otherwise = 0\n",
    "    return labels"
   ],
   "metadata": {
    "collapsed": false,
    "pycharm": {
     "name": "#%%\n"
    }
   }
  },
  {
   "cell_type": "code",
   "execution_count": 8,
   "outputs": [],
   "source": [
    "def MakeDataWindows(data, channels, xsize, out_data):\n",
    "    s = (int(channels), int(xsize))\n",
    "    scaledata = 1000\n",
    "    pic = np.zeros(s)\n",
    "    #print(pic[22][22])\n",
    "    print(f'Running for {int(data.size/xsize/channels)} iterations')\n",
    "    for i in range(int(data.size/xsize/channels)):\n",
    "        for j in range(int(channels)):\n",
    "            for k in range(int(xsize)):\n",
    "                pic[j][k] = float(data[j][int(i * xsize + k)]) * 1000\n",
    "        out_data.append(pic)\n",
    "        print(\n",
    "            f'\\rLoop {i}',\n",
    "            end=''\n",
    "        )\n",
    "    print(f'\\nLoop Complete\\n')"
   ],
   "metadata": {
    "collapsed": false,
    "pycharm": {
     "name": "#%%\n"
    }
   }
  },
  {
   "cell_type": "code",
   "execution_count": 9,
   "outputs": [
    {
     "name": "stdout",
     "output_type": "stream",
     "text": [
      "Running for 40069 iterations\n",
      "Loop 40068\n",
      "Loop Complete\n",
      "\n",
      "All Done!\n"
     ]
    }
   ],
   "source": [
    "out_data = []\n",
    "MakeDataWindows(raw_data, raw_data.size/raw_data[0].size, raw_data.size/raw_data[0].size, out_data)\n",
    "print(f'All Done!')"
   ],
   "metadata": {
    "collapsed": false,
    "pycharm": {
     "name": "#%%\n"
    }
   }
  },
  {
   "cell_type": "code",
   "execution_count": 10,
   "outputs": [
    {
     "name": "stdout",
     "output_type": "stream",
     "text": [
      "data/chb01/chb01_04.edf.seizures\n",
      "[1467, 375552, 1494, 382464]\n"
     ]
    }
   ],
   "source": [
    "seizurecoords = openSeizure(\"data/chb01/chb01_04.edf.seizures\")\n",
    "labels = LabelData(seizurecoords,raw_data[0].size,raw_data[0].size/(raw_data.size/raw_data[0].size))\n",
    "#print(\n",
    "#    f'\\rEpoch {epoch+1} [{batch_nr+1}/{len(train_loader)}] - Loss: {loss}',\n",
    "#    end=''\n",
    "#)"
   ],
   "metadata": {
    "collapsed": false,
    "pycharm": {
     "name": "#%%\n"
    }
   }
  },
  {
   "cell_type": "code",
   "execution_count": 11,
   "outputs": [
    {
     "name": "stdout",
     "output_type": "stream",
     "text": [
      "1.0\n",
      "0.0\n"
     ]
    }
   ],
   "source": [
    "print(labels[int(seizurecoords[3]/23)])\n",
    "print(labels[int(seizurecoords[3]/23)+1])"
   ],
   "metadata": {
    "collapsed": false,
    "pycharm": {
     "name": "#%%\n"
    }
   }
  },
  {
   "cell_type": "code",
   "execution_count": 2,
   "outputs": [
    {
     "name": "stdout",
     "output_type": "stream",
     "text": [
      "43200 done (0)"
     ]
    }
   ],
   "source": [
    "#download custom dataset\n",
    "pic = np.zeros((23, 256))\n",
    "out_data = []\n",
    "labels = []\n",
    "done_counter = 0\n",
    "scalefactor = 1/32768\n",
    "\n",
    "#opening the text file\n",
    "with open('data/chb01/chb01.txt','r') as file:\n",
    "    # reading each line\n",
    "    for line in file:\n",
    "        a = 0\n",
    "        label = -1\n",
    "        row = 0\n",
    "        b = 0\n",
    "        pic = np.zeros((23, 256))\n",
    "        # reading each word\n",
    "        #sosda = np.array(line.split)\n",
    "        #print(sosda.size)\n",
    "        for word in line.split():\n",
    "            if a == 0 and row == 0 and label == -1:\n",
    "                label = int(word)\n",
    "                a = a - 1\n",
    "            elif row < 256:\n",
    "                #b = b + 1\n",
    "                pic[a][row] = scalefactor * int(word)\n",
    "                if a >= 22:\n",
    "                    a = 0\n",
    "                    row = row + 1\n",
    "            a = a + 1\n",
    "        out_data.append(pic)\n",
    "        labels.append(label)\n",
    "        done_counter = done_counter + 1\n",
    "        if done_counter % 100 == 0:\n",
    "            print(\n",
    "                f'\\r{done_counter} done ({b})',\n",
    "                end=''\n",
    "            )\n",
    "        #'data/chb01/chb01.txt' 43200 size, should take about roughly 2 minutes to load\n",
    "        #'data/chb03/chb03.txt' 14400 size, should take a little less than a minute to load"
   ],
   "metadata": {
    "collapsed": false,
    "pycharm": {
     "name": "#%%\n"
    }
   }
  },
  {
   "cell_type": "code",
   "execution_count": 22,
   "outputs": [
    {
     "name": "stdout",
     "output_type": "stream",
     "text": [
      "13500 done"
     ]
    }
   ],
   "source": [
    "#remove all seizures\n",
    "done_counter = 0\n",
    "for q in range(len(labels)):\n",
    "    s = len(labels) - q - 1\n",
    "    if labels[s] == 2:\n",
    "        del labels[s]\n",
    "        del out_data[s]\n",
    "    if q % 100 == 0:\n",
    "        print(\n",
    "            f'\\r{q} done',\n",
    "            end=''\n",
    "        )"
   ],
   "metadata": {
    "collapsed": false,
    "pycharm": {
     "name": "#%%\n"
    }
   }
  },
  {
   "cell_type": "code",
   "execution_count": 6,
   "outputs": [
    {
     "name": "stdout",
     "output_type": "stream",
     "text": [
      "23\n",
      "256\n",
      "[[ 1.32812500e-01  0.00000000e+00  0.00000000e+00 ...  0.00000000e+00\n",
      "   0.00000000e+00  0.00000000e+00]\n",
      " [-1.09405518e-01  1.87500000e-01 -3.12805176e-02 ...  0.00000000e+00\n",
      "  -3.67218018e-01  7.81250000e-02]\n",
      " [ 6.32812500e-01 -8.59680176e-02  2.42187500e-01 ... -4.45343018e-01\n",
      "  -7.84301758e-03 -4.29718018e-01]\n",
      " ...\n",
      " [-2.26593018e-01 -3.04718018e-01  2.26562500e-01 ...  3.12500000e-01\n",
      "   5.62500000e-01 -6.25305176e-02]\n",
      " [-2.73468018e-01  4.68750000e-02 -7.65655518e-01 ... -5.78155518e-01\n",
      "  -3.05175781e-05  1.17187500e-01]\n",
      " [ 2.34375000e-02 -2.57843018e-01  1.64062500e-01 ... -2.26593018e-01\n",
      "  -5.31280518e-01 -1.64093018e-01]]\n",
      "23\n",
      "256\n",
      "[[ 0.78125     0.          0.         ...  0.          0.\n",
      "   0.        ]\n",
      " [ 0.2578125   0.515625    0.203125   ... -0.05471802 -0.13284302\n",
      "  -0.46878052]\n",
      " [ 0.7734375   0.2890625   0.3046875  ...  0.2109375  -0.17190552\n",
      "   0.078125  ]\n",
      " ...\n",
      " [ 0.9921875   0.40625    -0.35940552 ... -0.40628052 -0.01565552\n",
      "   0.9609375 ]\n",
      " [-0.03128052  0.9296875   0.4453125  ...  0.2421875  -0.35940552\n",
      "  -0.02346802]\n",
      " [ 0.1640625  -0.02346802  0.796875   ... -0.42971802  0.3125\n",
      "  -0.34378052]]\n"
     ]
    }
   ],
   "source": [
    "#0\n",
    "print(len(out_data[0]))\n",
    "print(int(out_data[0].size/len(out_data[0])))\n",
    "print(out_data[0])\n",
    "#1\n",
    "print(len(out_data[1]))\n",
    "print(int(out_data[1].size/len(out_data[1])))\n",
    "print(out_data[1])\n",
    "#these should be different from eachother"
   ],
   "metadata": {
    "collapsed": false,
    "pycharm": {
     "name": "#%%\n"
    }
   }
  },
  {
   "cell_type": "code",
   "execution_count": 7,
   "outputs": [],
   "source": [
    "batch_size = 1\n",
    "tensor_data = torch.Tensor(np.array(out_data))\n",
    "tensor_labels = torch.Tensor(np.array(labels))\n",
    "dataset = TensorDataset(tensor_data,tensor_labels)\n",
    "dataset_size = len(dataset)\n",
    "train_size = int(0.6 * dataset_size)\n",
    "val_size = int(0.2 * dataset_size)\n",
    "test_size = int(dataset_size - train_size - val_size)\n",
    "train_set, val_set, test_set = torch.utils.data.random_split(dataset, [train_size, val_size, test_size])\n",
    "train_loader = DataLoader(train_set, batch_size=batch_size, shuffle=True)\n",
    "val_loader = DataLoader(val_set, batch_size=batch_size, shuffle=True)\n",
    "test_loader = DataLoader(test_set, batch_size=batch_size, shuffle=True)"
   ],
   "metadata": {
    "collapsed": false,
    "pycharm": {
     "name": "#%%\n"
    }
   }
  },
  {
   "cell_type": "code",
   "execution_count": 8,
   "outputs": [],
   "source": [
    "class Net(nn.Module):\n",
    "    def __init__(self):\n",
    "        super(Net, self).__init__()\n",
    "        self.conv1 = nn.Conv2d(1, 4, 3)     #channels in, channels out, kernel size\n",
    "        self.pool = nn.MaxPool2d(2, 2)      #kernel size, stride (?)\n",
    "        self.conv2 = nn.Conv2d(4, 5, 3)\n",
    "        self.fc1 = nn.Linear((256-4-4)*5, 128)\n",
    "        self.fc2 = nn.Linear(128, 3)\n",
    "\n",
    "    def forward(self, x):\n",
    "        x = self.pool(F.leaky_relu(self.conv1(x)))#F.leaky_relu\n",
    "        x = self.pool(F.leaky_relu(self.conv2(x)))\n",
    "        x = torch.flatten(x)\n",
    "        x = F.leaky_relu(self.fc1(x))\n",
    "        x = self.fc2(x)\n",
    "\n",
    "        return x"
   ],
   "metadata": {
    "collapsed": false,
    "pycharm": {
     "name": "#%%\n"
    }
   }
  },
  {
   "cell_type": "code",
   "execution_count": 9,
   "outputs": [],
   "source": [
    "def train_model(model, criterion, optimizer, train_loader, val_loader, num_epochs):\n",
    "    best_model = -1\n",
    "    best_loss = float('inf')\n",
    "    count = 0\n",
    "\n",
    "    for epoch in range(num_epochs):\n",
    "        for batch_nr, (data, labels) in enumerate(train_loader):\n",
    "\n",
    "            with torch.set_grad_enabled(True):\n",
    "            #if 1:\n",
    "\n",
    "                labels = torch.nn.functional.one_hot(labels.to(torch.int64), 3)#np.transpose(torch.nn.functional.one_hot(labels.to(torch.int64), 3))\n",
    "                labels = labels[0].float()\n",
    "\n",
    "                prediction = model.forward(data)\n",
    "\n",
    "                #print(labels.size());\n",
    "                #print(labels);\n",
    "                #print(prediction.size());\n",
    "                #print(prediction);\n",
    "\n",
    "                loss = criterion(prediction, labels)\n",
    "\n",
    "                loss.backward()\n",
    "\n",
    "                optimizer.step()\n",
    "\n",
    "                optimizer.zero_grad()\n",
    "\n",
    "                print(\n",
    "                    f'\\rEpoch {epoch+1} [{batch_nr+1}/{len(train_loader)}] - Loss: {loss}',\n",
    "                    end=''\n",
    "                )\n",
    "\n",
    "\n",
    "        total_loss = 0\n",
    "        for batch_nr, (data, labels) in enumerate(val_loader):\n",
    "            labels = torch.nn.functional.one_hot(labels.to(torch.int64), 3)\n",
    "            labels = labels[0].float()\n",
    "\n",
    "            prediction = model.forward(data)\n",
    "\n",
    "            loss = criterion(prediction, labels)\n",
    "\n",
    "            total_loss += loss\n",
    "\n",
    "        if total_loss < best_loss:\n",
    "            best_loss = total_loss\n",
    "            best_model = copy.deepcopy(model)\n",
    "            print(\" New best model! - Loss: \"+str(float(best_loss)))\n",
    "        #else:\n",
    "            #model = copy.deepcopy(best_model)\n",
    "\n",
    "\n",
    "    return best_model"
   ],
   "metadata": {
    "collapsed": false,
    "pycharm": {
     "name": "#%%\n"
    }
   }
  },
  {
   "cell_type": "code",
   "execution_count": 10,
   "outputs": [],
   "source": [
    "def test_model(model, test_loader):\n",
    "    correct = 0\n",
    "    total = 0\n",
    "    count = 0\n",
    "    c = np.zeros(3)\n",
    "    d = np.zeros([3,3])\n",
    "\n",
    "    for batch_nr, (data, labels) in enumerate(test_loader):\n",
    "        prediction = model.forward(data.float())\n",
    "\n",
    "        if prediction.dim() == 1:\n",
    "            prediction = torch.argmax(prediction).float()\n",
    "            #print(\n",
    "            #    f'\\rEpoch {epoch+1} [{batch_nr+1}/{len(train_loader)}] - Loss: {loss}',\n",
    "            #    end=''\n",
    "            #)\n",
    "            correct += int(prediction==labels)\n",
    "            total += 1\n",
    "            #print(int(prediction), int(labels))\n",
    "            c[prediction.to(torch.int32)] += 1\n",
    "            d[prediction.to(torch.int32)][int(labels)] += 1\n",
    "        else:\n",
    "            prediction = torch.argmax(prediction, dim=1).float()\n",
    "            correct += int(((prediction - labels) == 0).sum())\n",
    "            total += len(prediction)\n",
    "            #print(int(prediction), int(labels))\n",
    "    print(f'{c[0]} 0s [{d[0][0]}, {d[0][1]}, {d[0][2]}]\\n{c[1]} 1s [{d[1][0]}, {d[1][1]}, {d[1][2]}]\\n{c[2]} 2s [{d[2][0]}, {d[2][1]}, {d[2][2]}]')\n",
    "    return 100 * correct / total"
   ],
   "metadata": {
    "collapsed": false,
    "pycharm": {
     "name": "#%%\n"
    }
   }
  },
  {
   "cell_type": "code",
   "execution_count": 11,
   "outputs": [],
   "source": [
    "def test_random(model, test_loader):\n",
    "    cnt=0\n",
    "    for batch_nr, (data, labels) in enumerate(test_loader):\n",
    "        cnt = cnt + 1\n",
    "    cnt2=0\n",
    "    rnd = int(np.random.rand(1,1)*cnt)\n",
    "    for batch_nr, (data, labels) in enumerate(test_loader):\n",
    "\n",
    "        if cnt2 == rnd:\n",
    "            prediction = model.forward(data)\n",
    "            print(data)\n",
    "            print(str(prediction) + \" \" + str(rnd))\n",
    "        cnt2 = cnt2 + 1"
   ],
   "metadata": {
    "collapsed": false,
    "pycharm": {
     "name": "#%%\n"
    }
   }
  },
  {
   "cell_type": "code",
   "execution_count": 22,
   "outputs": [],
   "source": [
    "#Network\n",
    "model = Net()\n",
    "\n",
    "#Device\n",
    "#device = torch.device(\"cuda:0\" if torch.cuda.is_available() else \"cpu\")\n",
    "#model = model.to(device)\n",
    "\n",
    "#Loss function\n",
    "criterion = nn.MSELoss()#nn.CrossEntropyLoss()\n",
    "\n",
    "#Optimizer\n",
    "#optimizer = torch.optim.Adam(model.parameters(), lr=0.001)\n",
    "optimizer = optim.Adam(model.parameters(), lr=0.001)#lr=0.001 in 4 epochs got ~76% overall accuracy"
   ],
   "metadata": {
    "collapsed": false,
    "pycharm": {
     "name": "#%%\n"
    }
   }
  },
  {
   "cell_type": "code",
   "execution_count": 23,
   "outputs": [
    {
     "name": "stdout",
     "output_type": "stream",
     "text": [
      "Epoch 1 [12960/12960] - Loss: 0.45421957969665538774 New best model! - Loss: tensor(651.7894, grad_fn=<AddBackward0>)\n",
      "Epoch 2 [12960/12960] - Loss: 0.18413871526718141542 New best model! - Loss: tensor(506.3582, grad_fn=<AddBackward0>)\n"
     ]
    }
   ],
   "source": [
    "#about 1 min per epoch\n",
    "trained_model = 0\n",
    "trained_model = train_model(model, criterion, optimizer, train_loader, val_loader, 1)"
   ],
   "metadata": {
    "collapsed": false,
    "pycharm": {
     "name": "#%%\n"
    }
   }
  },
  {
   "cell_type": "code",
   "execution_count": 24,
   "outputs": [
    {
     "name": "stdout",
     "output_type": "stream",
     "text": [
      "4410.0 0s [3847.0, 350.0, 213.0]\n",
      "3694.0 1s [217.0, 3114.0, 363.0]\n",
      "4856.0 2s [253.0, 845.0, 3758.0]\n",
      "model has 82.70833333333333% accuracy on training set\n"
     ]
    }
   ],
   "source": [
    "#trained_model = model #TESTING\n",
    "\n",
    "tested_model = test_model(trained_model, train_loader)\n",
    "print(\"model has \" + str(tested_model) + \"% accuracy on training set\")"
   ],
   "metadata": {
    "collapsed": false,
    "pycharm": {
     "name": "#%%\n"
    }
   }
  },
  {
   "cell_type": "code",
   "execution_count": 25,
   "outputs": [
    {
     "name": "stdout",
     "output_type": "stream",
     "text": [
      "1427.0 0s [1151.0, 158.0, 118.0]\n",
      "1232.0 1s [141.0, 918.0, 173.0]\n",
      "1661.0 2s [134.0, 386.0, 1141.0]\n",
      "model has 74.30555555555556% accuracy on test set\n"
     ]
    }
   ],
   "source": [
    "tested_model = test_model(trained_model, test_loader)\n",
    "print(\"model has \" + str(tested_model) + \"% accuracy on test set\")"
   ],
   "metadata": {
    "collapsed": false,
    "pycharm": {
     "name": "#%%\n"
    }
   }
  },
  {
   "cell_type": "code",
   "execution_count": 56,
   "outputs": [
    {
     "name": "stdout",
     "output_type": "stream",
     "text": [
      "Epoch 1 [10440/10440] - Loss: 0.3503731191158294744New best model!\n"
     ]
    }
   ],
   "source": [
    "#retrain\n",
    "model = copy.deepcopy(trained_model)\n",
    "trained_model = 0\n",
    "trained_model = train_model(model, criterion, optimizer, train_loader, val_loader, 1)"
   ],
   "metadata": {
    "collapsed": false,
    "pycharm": {
     "name": "#%%\n"
    }
   }
  },
  {
   "cell_type": "code",
   "execution_count": 16,
   "outputs": [
    {
     "name": "stdout",
     "output_type": "stream",
     "text": [
      "tensor([[[ 0.4219,  0.0000,  0.0000,  ...,  0.0000,  0.0000,  0.0000],\n",
      "         [-0.4453,  0.3594, -0.2813,  ...,  0.1328, -0.2266, -0.6719],\n",
      "         [-0.6250, -0.4297,  0.2266,  ...,  0.0078,  0.2500, -0.4141],\n",
      "         ...,\n",
      "         [-0.3438, -0.1250,  0.2266,  ...,  0.1250,  0.1719, -0.4141],\n",
      "         [-0.1485, -0.3516, -0.1563,  ..., -0.5782,  0.4219,  0.2344],\n",
      "         [ 0.3828, -0.1094, -0.5234,  ...,  0.4062, -0.5157,  0.6406]]])\n",
      "tensor([0.5733, 0.3002, 0.0922], grad_fn=<AddBackward0>) 11316\n",
      "tensor([[[-0.0781,  0.0000,  0.0000,  ...,  0.0000,  0.0000,  0.0000],\n",
      "         [-0.6250, -0.1797,  0.5078,  ..., -0.1485, -0.8750,  0.2344],\n",
      "         [ 0.3359, -0.5000, -0.1484,  ...,  0.8203, -0.3047, -0.8203],\n",
      "         ...,\n",
      "         [-0.2813, -0.5469,  0.3203,  ..., -0.0547, -0.3828, -0.0938],\n",
      "         [-0.8985, -0.4453, -0.6641,  ...,  0.9062,  0.0938, -0.2969],\n",
      "         [ 0.3672, -0.5938, -0.4375,  ..., -0.1797,  0.7344,  0.0078]]])\n",
      "tensor([0.0815, 0.5420, 0.2877], grad_fn=<AddBackward0>) 458\n",
      "tensor([[[ 1.1719e-01,  0.0000e+00,  0.0000e+00,  ...,  0.0000e+00,\n",
      "           0.0000e+00,  0.0000e+00],\n",
      "         [ 4.8438e-01,  9.3750e-02, -6.5628e-01,  ...,  3.0469e-01,\n",
      "           5.6250e-01, -6.9534e-01],\n",
      "         [ 7.8125e-03,  3.2812e-01,  8.5938e-02,  ..., -2.3468e-02,\n",
      "           2.5000e-01,  5.0000e-01],\n",
      "         ...,\n",
      "         [ 4.6875e-01,  5.0781e-01, -7.8430e-03,  ..., -3.9154e-02,\n",
      "          -6.3284e-01, -3.9847e-01],\n",
      "         [-1.1722e-01,  2.5781e-01,  7.3438e-01,  ..., -2.2659e-01,\n",
      "           3.2025e-01, -5.8597e-01],\n",
      "         [-7.1097e-01, -1.7191e-01,  1.9531e-01,  ..., -2.8909e-01,\n",
      "          -2.4222e-01, -9.1553e-05]]])\n",
      "tensor([0.0966, 0.4315, 0.4731], grad_fn=<AddBackward0>) 2046\n",
      "tensor([[[-0.5000,  0.0000,  0.0000,  ...,  0.0000,  0.0000,  0.0000],\n",
      "         [-0.8828, -0.4219,  0.2812,  ...,  0.0938,  0.6562,  0.3984],\n",
      "         [ 0.3984, -0.8828, -0.4688,  ...,  0.6094,  0.1094,  0.7344],\n",
      "         ...,\n",
      "         [-0.8829,  0.5156, -0.0782,  ...,  0.3593,  0.6484,  0.8438],\n",
      "         [-0.6250,  0.9921,  0.2656,  ..., -0.3750,  0.3828,  0.8047],\n",
      "         [ 0.2734, -0.2969,  0.9453,  ...,  0.3594,  0.3125,  0.2656]]])\n",
      "tensor([0.1078, 0.3739, 0.4646], grad_fn=<AddBackward0>) 616\n",
      "tensor([[[-0.0313,  0.0000,  0.0000,  ...,  0.0000,  0.0000,  0.0000],\n",
      "         [-0.6328, -0.1250,  0.4609,  ...,  0.3672, -0.3750, -0.3203],\n",
      "         [-0.6719, -0.6719, -0.0313,  ...,  0.9375,  0.1172, -0.3282],\n",
      "         ...,\n",
      "         [-0.3594,  0.7187, -0.4219,  ..., -0.2657,  0.3828, -0.0625],\n",
      "         [ 0.0859, -0.2578,  0.5625,  ...,  0.7656, -0.3282,  0.2188],\n",
      "         [ 0.3594, -0.0860, -0.2657,  ..., -0.5391,  0.7968, -0.8203]]])\n",
      "tensor([0.0190, 0.3168, 0.6629], grad_fn=<AddBackward0>) 42\n"
     ]
    }
   ],
   "source": [
    "test_random(trained_model, train_loader)\n",
    "test_random(trained_model, val_loader)\n",
    "test_random(trained_model, test_loader)\n",
    "test_random(trained_model, train_loader)\n",
    "test_random(trained_model, train_loader)"
   ],
   "metadata": {
    "collapsed": false,
    "pycharm": {
     "name": "#%%\n"
    }
   }
  },
  {
   "cell_type": "code",
   "execution_count": 15,
   "outputs": [
    {
     "name": "stdout",
     "output_type": "stream",
     "text": [
      "torch.Size([1, 23, 256])\n"
     ]
    }
   ],
   "source": [
    "#export?\n",
    "dummy_input = torch.randn(1, 23, 256)\n",
    "print(dummy_input.size())\n",
    "torch.onnx.export(trained_model, dummy_input, \"out_model.onnx\", verbose=True)"
   ],
   "metadata": {
    "collapsed": false,
    "pycharm": {
     "name": "#%%\n"
    }
   }
  },
  {
   "cell_type": "code",
   "execution_count": 19,
   "outputs": [],
   "source": [
    "#before running this, download another dataset\n",
    "batch_size = 1\n",
    "tensor_data = torch.Tensor(np.array(out_data))\n",
    "tensor_labels = torch.Tensor(np.array(labels))\n",
    "controlset = TensorDataset(tensor_data,tensor_labels)\n",
    "control_loader = DataLoader(controlset, batch_size=batch_size, shuffle=True)"
   ],
   "metadata": {
    "collapsed": false,
    "pycharm": {
     "name": "#%%\n"
    }
   }
  },
  {
   "cell_type": "code",
   "execution_count": 29,
   "outputs": [
    {
     "name": "stdout",
     "output_type": "stream",
     "text": [
      "13793.0 0s [4767.0, 4581.0, 4445.0]\n",
      "362.0 1s [6.0, 149.0, 207.0]\n",
      "245.0 2s [27.0, 70.0, 148.0]\n",
      "model has 35.166666666666664% accuracy on control set\n"
     ]
    }
   ],
   "source": [
    "tested_model = test_model(trained_model, control_loader)\n",
    "print(\"model has \" + str(tested_model) + \"% accuracy on control set\")"
   ],
   "metadata": {
    "collapsed": false,
    "pycharm": {
     "name": "#%%\n"
    }
   }
  },
  {
   "cell_type": "code",
   "execution_count": 47,
   "outputs": [
    {
     "name": "stdout",
     "output_type": "stream",
     "text": [
      "3500 done (0)"
     ]
    }
   ],
   "source": [
    "#download custom datafile\n",
    "pic = np.zeros((23, 256))\n",
    "my_data = []\n",
    "my_labels = []\n",
    "done_counter = 0\n",
    "scalefactor = 1/32768\n",
    "\n",
    "#opening the text file\n",
    "with open('data/chb01/data_chb01_15.txt','r') as file:\n",
    "    # reading each line\n",
    "    for line in file:\n",
    "        a = 0\n",
    "        label = -1\n",
    "        row = 0\n",
    "        b = 0\n",
    "        pic = np.zeros((23, 256))\n",
    "        # reading each word\n",
    "        #sosda = np.array(line.split)\n",
    "        #print(sosda.size)\n",
    "        for word in line.split():\n",
    "            if a == 0 and row == 0 and label == -1:\n",
    "                label = int(word)\n",
    "                a = a - 1\n",
    "            elif row < 256:\n",
    "                #b = b + 1\n",
    "                pic[a][row] = scalefactor * int(word)\n",
    "                if a >= 22:\n",
    "                    a = 0\n",
    "                    row = row + 1\n",
    "            a = a + 1\n",
    "        my_data.append(pic)\n",
    "        my_labels.append(label)\n",
    "        done_counter = done_counter + 1\n",
    "        if done_counter % 100 == 0:\n",
    "            print(\n",
    "                f'\\r{done_counter} done ({b})',\n",
    "                end=''\n",
    "            )\n",
    "        ##3599 size"
   ],
   "metadata": {
    "collapsed": false,
    "pycharm": {
     "name": "#%%\n"
    }
   }
  },
  {
   "cell_type": "code",
   "execution_count": 48,
   "outputs": [],
   "source": [
    "tensor_data = torch.Tensor(np.array(my_data))\n",
    "tensor_labels = torch.Tensor(np.array(my_labels))\n",
    "realset = TensorDataset(tensor_data,tensor_labels)\n",
    "real_loader = DataLoader(realset, batch_size=batch_size, shuffle=False)"
   ],
   "metadata": {
    "collapsed": false,
    "pycharm": {
     "name": "#%%\n"
    }
   }
  },
  {
   "cell_type": "code",
   "execution_count": 49,
   "outputs": [],
   "source": [
    "alarm_data = []\n",
    "sum_data = []\n",
    "average_over = 25\n",
    "average = np.zeros(average_over)\n",
    "a = 0\n",
    "for batch_nr, (data, labels) in enumerate(real_loader):\n",
    "        a=a+1\n",
    "        prediction = trained_model.forward(data.float())\n",
    "        prediction = torch.argmax(prediction).float()\n",
    "        if prediction == 2:\n",
    "            prediction=0\n",
    "        alarm_data.append(prediction)\n",
    "        average[a%average_over]=prediction\n",
    "        sum_data.append(np.sum(average))\n"
   ],
   "metadata": {
    "collapsed": false,
    "pycharm": {
     "name": "#%%\n"
    }
   }
  },
  {
   "cell_type": "code",
   "execution_count": 52,
   "outputs": [
    {
     "name": "stdout",
     "output_type": "stream",
     "text": [
      "data/chb01/chb01_15.edf.seizures\n",
      "[1732, 443392, 1772, 453632]\n"
     ]
    },
    {
     "data": {
      "text/plain": "<Figure size 640x480 with 1 Axes>",
      "image/png": "[encoded data removed]"
     },
     "metadata": {},
     "output_type": "display_data"
    }
   ],
   "source": [
    "\n",
    "time = range(0,len(sum_data))\n",
    "plt.plot(time,sum_data)\n",
    "xcoords = openSeizure(\"data/chb01/chb01_15.edf.seizures\")\n",
    "coords_count = 0\n",
    "for xc in xcoords:\n",
    "    xc = xc / 256\n",
    "    if coords_count % 2 == 1:\n",
    "        plt.axvline(x=xc, color='r')\n",
    "    coords_count = coords_count + 1"
   ],
   "metadata": {
    "collapsed": false,
    "pycharm": {
     "name": "#%%\n"
    }
   }
  },
  {
   "cell_type": "code",
   "execution_count": 51,
   "outputs": [
    {
     "name": "stdout",
     "output_type": "stream",
     "text": [
      "682.0 0s [640.0, 35.0, 7.0]\n",
      "2309.0 1s [2031.0, 247.0, 31.0]\n",
      "608.0 2s [587.0, 18.0, 3.0]\n",
      "model has 24.729091414281744% accuracy on control set\n"
     ]
    }
   ],
   "source": [
    "tested_model = test_model(trained_model, real_loader)\n",
    "print(\"model has \" + str(tested_model) + \"% accuracy on control set\")"
   ],
   "metadata": {
    "collapsed": false,
    "pycharm": {
     "name": "#%%\n"
    }
   }
  },
  {
   "cell_type": "code",
   "execution_count": null,
   "outputs": [],
   "source": [
    "print(my_labels)"
   ],
   "metadata": {
    "collapsed": false,
    "pycharm": {
     "name": "#%%\n",
     "is_executing": true
    }
   }
  },
  {
   "cell_type": "code",
   "execution_count": null,
   "outputs": [],
   "source": [],
   "metadata": {
    "collapsed": false,
    "pycharm": {
     "name": "#%%\n"
    }
   }
  }
 ],
 "metadata": {
  "kernelspec": {
   "display_name": "Python 3",
   "language": "python",
   "name": "python3"
  },
  "language_info": {
   "codemirror_mode": {
    "name": "ipython",
    "version": 2
   },
   "file_extension": ".py",
   "mimetype": "text/x-python",
   "name": "python",
   "nbconvert_exporter": "python",
   "pygments_lexer": "ipython2",
   "version": "2.7.6"
  }
 },
 "nbformat": 4,
 "nbformat_minor": 0
}